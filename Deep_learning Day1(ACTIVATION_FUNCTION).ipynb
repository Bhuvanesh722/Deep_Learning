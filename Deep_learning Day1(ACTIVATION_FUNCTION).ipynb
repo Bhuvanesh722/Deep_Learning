{
 "cells": [
  {
   "cell_type": "markdown",
   "id": "8de731e7",
   "metadata": {},
   "source": [
    "# Binary Step Function:"
   ]
  },
  {
   "cell_type": "code",
   "execution_count": 2,
   "id": "94dbc5c7",
   "metadata": {},
   "outputs": [],
   "source": [
    "def binary_step(x):\n",
    "    if x<0:\n",
    "        return 0\n",
    "    else:\n",
    "        return 1"
   ]
  },
  {
   "cell_type": "code",
   "execution_count": 3,
   "id": "d682aaeb",
   "metadata": {},
   "outputs": [
    {
     "data": {
      "text/plain": [
       "0"
      ]
     },
     "execution_count": 3,
     "metadata": {},
     "output_type": "execute_result"
    }
   ],
   "source": [
    "binary_step(-1)"
   ]
  },
  {
   "cell_type": "code",
   "execution_count": 4,
   "id": "e3f25cdf",
   "metadata": {},
   "outputs": [
    {
     "data": {
      "text/plain": [
       "1"
      ]
     },
     "execution_count": 4,
     "metadata": {},
     "output_type": "execute_result"
    }
   ],
   "source": [
    "binary_step(13)"
   ]
  },
  {
   "cell_type": "markdown",
   "id": "ce4a1bf5",
   "metadata": {},
   "source": [
    "# Linear Function:"
   ]
  },
  {
   "cell_type": "code",
   "execution_count": 5,
   "id": "0725c25f",
   "metadata": {},
   "outputs": [],
   "source": [
    "def linear_fun(x):\n",
    "    return 3*x"
   ]
  },
  {
   "cell_type": "code",
   "execution_count": 6,
   "id": "5aeb418f",
   "metadata": {},
   "outputs": [
    {
     "data": {
      "text/plain": [
       "36"
      ]
     },
     "execution_count": 6,
     "metadata": {},
     "output_type": "execute_result"
    }
   ],
   "source": [
    "linear_fun(12)"
   ]
  },
  {
   "cell_type": "code",
   "execution_count": 7,
   "id": "a9a5aade",
   "metadata": {},
   "outputs": [
    {
     "data": {
      "text/plain": [
       "-33"
      ]
     },
     "execution_count": 7,
     "metadata": {},
     "output_type": "execute_result"
    }
   ],
   "source": [
    "linear_fun(-11)"
   ]
  },
  {
   "cell_type": "markdown",
   "id": "2ffa7192",
   "metadata": {},
   "source": [
    "# Sigmoid Function:"
   ]
  },
  {
   "cell_type": "code",
   "execution_count": 10,
   "id": "e543e457",
   "metadata": {},
   "outputs": [],
   "source": [
    "import numpy as np\n",
    "def sigmoid_fun(x):\n",
    "    z = (1/(1+np.exp(-x)))\n",
    "    return z"
   ]
  },
  {
   "cell_type": "code",
   "execution_count": 11,
   "id": "e2fb5e7d",
   "metadata": {},
   "outputs": [
    {
     "data": {
      "text/plain": [
       "0.11920292202211755"
      ]
     },
     "execution_count": 11,
     "metadata": {},
     "output_type": "execute_result"
    }
   ],
   "source": [
    "sigmoid_fun(-2)"
   ]
  },
  {
   "cell_type": "code",
   "execution_count": 12,
   "id": "6e46e7a8",
   "metadata": {},
   "outputs": [
    {
     "data": {
      "text/plain": [
       "0.8807970779778823"
      ]
     },
     "execution_count": 12,
     "metadata": {},
     "output_type": "execute_result"
    }
   ],
   "source": [
    "sigmoid_fun(2)"
   ]
  },
  {
   "cell_type": "markdown",
   "id": "7827718c",
   "metadata": {},
   "source": [
    "# TANH:"
   ]
  },
  {
   "cell_type": "code",
   "execution_count": 13,
   "id": "5f18bcb1",
   "metadata": {},
   "outputs": [],
   "source": [
    "def tanh_fun(x):\n",
    "    z = (2/(1+np.exp(-2*x)))-1\n",
    "    return z"
   ]
  },
  {
   "cell_type": "code",
   "execution_count": 14,
   "id": "6b936dae",
   "metadata": {},
   "outputs": [
    {
     "data": {
      "text/plain": [
       "1.0"
      ]
     },
     "execution_count": 14,
     "metadata": {},
     "output_type": "execute_result"
    }
   ],
   "source": [
    "tanh_fun(22.7)"
   ]
  },
  {
   "cell_type": "code",
   "execution_count": 16,
   "id": "29b29900",
   "metadata": {},
   "outputs": [
    {
     "data": {
      "text/plain": [
       "-0.9998345655542966"
      ]
     },
     "execution_count": 16,
     "metadata": {},
     "output_type": "execute_result"
    }
   ],
   "source": [
    "tanh_fun(-4.7)"
   ]
  },
  {
   "cell_type": "markdown",
   "id": "dfd07104",
   "metadata": {},
   "source": [
    "# ReLU"
   ]
  },
  {
   "cell_type": "code",
   "execution_count": 17,
   "id": "abb9b431",
   "metadata": {},
   "outputs": [],
   "source": [
    "def relu_fun(x):\n",
    "    if x<0: \n",
    "        return 0\n",
    "    else:\n",
    "        return x"
   ]
  },
  {
   "cell_type": "code",
   "execution_count": 18,
   "id": "4202ae7c",
   "metadata": {},
   "outputs": [
    {
     "data": {
      "text/plain": [
       "0"
      ]
     },
     "execution_count": 18,
     "metadata": {},
     "output_type": "execute_result"
    }
   ],
   "source": [
    "relu_fun(-7)"
   ]
  },
  {
   "cell_type": "code",
   "execution_count": 19,
   "id": "9d21b2a8",
   "metadata": {},
   "outputs": [
    {
     "data": {
      "text/plain": [
       "10"
      ]
     },
     "execution_count": 19,
     "metadata": {},
     "output_type": "execute_result"
    }
   ],
   "source": [
    "relu_fun(10)"
   ]
  },
  {
   "cell_type": "markdown",
   "id": "57c896eb",
   "metadata": {},
   "source": [
    "# Leaky ReLU"
   ]
  },
  {
   "cell_type": "code",
   "execution_count": 22,
   "id": "1b350fe1",
   "metadata": {},
   "outputs": [],
   "source": [
    "def leaky_relu_fun(x):\n",
    "    if x<0:\n",
    "        return 0.01*x\n",
    "    else:\n",
    "        return x"
   ]
  },
  {
   "cell_type": "code",
   "execution_count": 23,
   "id": "cdbf9a60",
   "metadata": {},
   "outputs": [
    {
     "data": {
      "text/plain": [
       "-0.02"
      ]
     },
     "execution_count": 23,
     "metadata": {},
     "output_type": "execute_result"
    }
   ],
   "source": [
    "leaky_relu_fun(-2)"
   ]
  },
  {
   "cell_type": "markdown",
   "id": "97fc486d",
   "metadata": {},
   "source": [
    "# Exponential LU"
   ]
  },
  {
   "cell_type": "code",
   "execution_count": 26,
   "id": "22ee80c8",
   "metadata": {},
   "outputs": [],
   "source": [
    "def elu_fun(x,a):\n",
    "    if x<0:\n",
    "        return a*(np.exp(x)-1)\n",
    "    else: \n",
    "        return x"
   ]
  },
  {
   "cell_type": "code",
   "execution_count": 27,
   "id": "53a4d8bf",
   "metadata": {},
   "outputs": [
    {
     "data": {
      "text/plain": [
       "5"
      ]
     },
     "execution_count": 27,
     "metadata": {},
     "output_type": "execute_result"
    }
   ],
   "source": [
    "elu_fun(5,0.1)"
   ]
  },
  {
   "cell_type": "code",
   "execution_count": 28,
   "id": "c223305b",
   "metadata": {},
   "outputs": [
    {
     "data": {
      "text/plain": [
       "-0.09932620530009145"
      ]
     },
     "execution_count": 28,
     "metadata": {},
     "output_type": "execute_result"
    }
   ],
   "source": [
    "elu_fun(-5,0.1)"
   ]
  },
  {
   "cell_type": "markdown",
   "id": "f3146801",
   "metadata": {},
   "source": [
    "\n",
    "# Swish"
   ]
  },
  {
   "cell_type": "code",
   "execution_count": 33,
   "id": "35d3b33f",
   "metadata": {},
   "outputs": [],
   "source": [
    "def swish_fun(x):\n",
    "    return x/(1-np.exp(-x))"
   ]
  },
  {
   "cell_type": "code",
   "execution_count": 34,
   "id": "ab26111c",
   "metadata": {},
   "outputs": [
    {
     "data": {
      "text/plain": [
       "1.0025115553818576e-23"
      ]
     },
     "execution_count": 34,
     "metadata": {},
     "output_type": "execute_result"
    }
   ],
   "source": [
    "swish_fun(-57)"
   ]
  },
  {
   "cell_type": "code",
   "execution_count": 35,
   "id": "ff2df104",
   "metadata": {},
   "outputs": [
    {
     "data": {
      "text/plain": [
       "34.00000000000006"
      ]
     },
     "execution_count": 35,
     "metadata": {},
     "output_type": "execute_result"
    }
   ],
   "source": [
    "swish_fun(34)"
   ]
  },
  {
   "cell_type": "markdown",
   "id": "ff41351d",
   "metadata": {},
   "source": [
    "# Soft_max"
   ]
  },
  {
   "cell_type": "code",
   "execution_count": 36,
   "id": "a5382986",
   "metadata": {},
   "outputs": [],
   "source": [
    "def soft_max(x):\n",
    "    z = np.exp(x)\n",
    "    z_ = z/z.sum()\n",
    "    return z_"
   ]
  },
  {
   "cell_type": "code",
   "execution_count": 37,
   "id": "41cb6a49",
   "metadata": {},
   "outputs": [
    {
     "data": {
      "text/plain": [
       "array([0.65900114, 0.24243297, 0.09856589])"
      ]
     },
     "execution_count": 37,
     "metadata": {},
     "output_type": "execute_result"
    }
   ],
   "source": [
    "soft_max([2.0,1.0,0.1])"
   ]
  },
  {
   "cell_type": "code",
   "execution_count": null,
   "id": "bcede54e",
   "metadata": {},
   "outputs": [],
   "source": []
  }
 ],
 "metadata": {
  "kernelspec": {
   "display_name": "Python 3 (ipykernel)",
   "language": "python",
   "name": "python3"
  },
  "language_info": {
   "codemirror_mode": {
    "name": "ipython",
    "version": 3
   },
   "file_extension": ".py",
   "mimetype": "text/x-python",
   "name": "python",
   "nbconvert_exporter": "python",
   "pygments_lexer": "ipython3",
   "version": "3.10.9"
  }
 },
 "nbformat": 4,
 "nbformat_minor": 5
}
